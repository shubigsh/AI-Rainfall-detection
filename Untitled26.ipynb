{
  "nbformat": 4,
  "nbformat_minor": 0,
  "metadata": {
    "colab": {
      "provenance": [],
      "authorship_tag": "ABX9TyN9bavgmV7Le+xh5Ag1Pyx0",
      "include_colab_link": true
    },
    "kernelspec": {
      "name": "python3",
      "display_name": "Python 3"
    },
    "language_info": {
      "name": "python"
    }
  },
  "cells": [
    {
      "cell_type": "markdown",
      "metadata": {
        "id": "view-in-github",
        "colab_type": "text"
      },
      "source": [
        "<a href=\"https://colab.research.google.com/github/shubigsh/AI-Rainfall-detection/blob/main/Untitled26.ipynb\" target=\"_parent\"><img src=\"https://colab.research.google.com/assets/colab-badge.svg\" alt=\"Open In Colab\"/></a>"
      ]
    },
    {
      "cell_type": "code",
      "execution_count": null,
      "metadata": {
        "id": "yN1fCE5i-2LR"
      },
      "outputs": [],
      "source": [
        "import pandas as pd\n",
        "from google.colab import files\n",
        "uploaded = files.upload()\n",
        "full_data = pd.read_csv('https://raw.githubusercontent.com/amankharwal/Website-data/master/weatherAUS.csv')\n",
        "full_data.head()"
      ]
    },
    {
      "cell_type": "code",
      "source": [
        "full_data.shape"
      ],
      "metadata": {
        "id": "muOYajI__HFV"
      },
      "execution_count": null,
      "outputs": []
    },
    {
      "cell_type": "code",
      "source": [
        "full_data.info()"
      ],
      "metadata": {
        "id": "CVCYbSio_k8P"
      },
      "execution_count": null,
      "outputs": []
    },
    {
      "cell_type": "code",
      "source": [
        "full_data['RainToday'].replace({'No': 0, 'Yes': 1},inplace = True)\n",
        "full_data['RainTomorrow'].replace({'No': 0, 'Yes': 1},inplace = True)"
      ],
      "metadata": {
        "id": "dfvhULL5_nph"
      },
      "execution_count": null,
      "outputs": []
    },
    {
      "cell_type": "code",
      "source": [
        "import matplotlib.pyplot as plt\n",
        "fig = plt.figure(figsize = (8,5))\n",
        "full_data.RainTomorrow.value_counts(normalize = True).plot(kind='bar', color= ['skyblue','navy'], alpha = 0.9, rot=0)\n",
        "plt.title('RainTomorrow Indicator No(0) and Yes(1) in the Imbalanced Dataset')\n",
        "plt.show()"
      ],
      "metadata": {
        "id": "umxBMYCN_qxa"
      },
      "execution_count": null,
      "outputs": []
    },
    {
      "cell_type": "code",
      "source": [
        "from sklearn.utils import resample\n",
        "\n",
        "no = full_data[full_data.RainTomorrow == 0]\n",
        "yes = full_data[full_data.RainTomorrow == 1]\n",
        "yes_oversampled = resample(yes, replace=True, n_samples=len(no), random_state=123)\n",
        "oversampled = pd.concat([no, yes_oversampled])\n",
        "\n",
        "fig = plt.figure(figsize = (8,5))\n",
        "oversampled.RainTomorrow.value_counts(normalize = True).plot(kind='bar', color= ['skyblue','navy'], alpha = 0.9, rot=0)\n",
        "plt.title('RainTomorrow Indicator No(0) and Yes(1) after Oversampling (Balanced Dataset)')\n",
        "plt.show()"
      ],
      "metadata": {
        "id": "tcxjWGVG_x6y"
      },
      "execution_count": null,
      "outputs": []
    },
    {
      "cell_type": "code",
      "source": [
        "# Missing Data Pattern in Training Data\n",
        "import seaborn as sns\n",
        "sns.heatmap(oversampled.isnull(), cbar=False, cmap='PuBu')"
      ],
      "metadata": {
        "id": "EA3BB0_E_2yS"
      },
      "execution_count": null,
      "outputs": []
    },
    {
      "cell_type": "code",
      "source": [
        "total = oversampled.isnull().sum().sort_values(ascending=False)\n",
        "percent = (oversampled.isnull().sum()/oversampled.isnull().count()).sort_values(ascending=False)\n",
        "missing = pd.concat([total, percent], axis=1, keys=['Total', 'Percent'])\n",
        "missing.head(4)"
      ],
      "metadata": {
        "id": "ShfAdRPt_8_D"
      },
      "execution_count": null,
      "outputs": []
    },
    {
      "cell_type": "code",
      "source": [
        "oversampled.select_dtypes(include=['object']).columns"
      ],
      "metadata": {
        "id": "HQnGpSsKALjE"
      },
      "execution_count": null,
      "outputs": []
    },
    {
      "cell_type": "code",
      "source": [
        "# Impute categorical var with Mode\n",
        "oversampled['Date'] = oversampled['Date'].fillna(oversampled['Date'].mode()[0])\n",
        "oversampled['Location'] = oversampled['Location'].fillna(oversampled['Location'].mode()[0])\n",
        "oversampled['WindGustDir'] = oversampled['WindGustDir'].fillna(oversampled['WindGustDir'].mode()[0])\n",
        "oversampled['WindDir9am'] = oversampled['WindDir9am'].fillna(oversampled['WindDir9am'].mode()[0])\n",
        "oversampled['WindDir3pm'] = oversampled['WindDir3pm'].fillna(oversampled['WindDir3pm'].mode()[0])"
      ],
      "metadata": {
        "id": "qWO2JmqqBvqk"
      },
      "execution_count": null,
      "outputs": []
    },
    {
      "cell_type": "code",
      "source": [
        "\n",
        "# Convert categorical features to continuous features with Label Encoding\n",
        "from sklearn.preprocessing import LabelEncoder\n",
        "lencoders = {}\n",
        "for col in oversampled.select_dtypes(include=['object']).columns:\n",
        "    lencoders[col] = LabelEncoder()\n",
        "    oversampled[col] = lencoders[col].fit_transform(oversampled[col])"
      ],
      "metadata": {
        "id": "oByC1YJgB95X"
      },
      "execution_count": null,
      "outputs": []
    },
    {
      "cell_type": "code",
      "source": [
        "import warnings\n",
        "warnings.filterwarnings(\"ignore\")\n",
        "# Multiple Imputation by Chained Equations\n",
        "from sklearn.experimental import enable_iterative_imputer\n",
        "from sklearn.impute import IterativeImputer\n",
        "MiceImputed = oversampled.copy(deep=True)\n",
        "mice_imputer = IterativeImputer()\n",
        "MiceImputed.iloc[:, :] = mice_imputer.fit_transform(oversampled)"
      ],
      "metadata": {
        "id": "9jNqDsLpCGVm"
      },
      "execution_count": null,
      "outputs": []
    },
    {
      "cell_type": "code",
      "source": [
        "# Detecting outliers with IQR\n",
        "Q1 = MiceImputed.quantile(0.25)\n",
        "Q3 = MiceImputed.quantile(0.75)\n",
        "IQR = Q3 - Q1\n",
        "print(IQR)"
      ],
      "metadata": {
        "id": "g9OpKwFPCq0V"
      },
      "execution_count": null,
      "outputs": []
    },
    {
      "cell_type": "code",
      "source": [
        "MiceImputed = MiceImputed[~((MiceImputed < (Q1 - 1.5 * IQR)) |(MiceImputed > (Q3 + 1.5 * IQR))).any(axis=1)]\n",
        "MiceImputed.shape"
      ],
      "metadata": {
        "id": "bSLe5xgKDF_0"
      },
      "execution_count": null,
      "outputs": []
    },
    {
      "cell_type": "code",
      "source": [
        "import numpy as np\n",
        "import matplotlib.pyplot as plt\n",
        "import seaborn as sns\n",
        "corr = MiceImputed.corr()\n",
        "mask = np.triu(np.ones_like(corr, dtype=bool))\n",
        "f, ax = plt.subplots(figsize=(20, 20))\n",
        "cmap = sns.diverging_palette(250, 25, as_cmap=True)\n",
        "sns.heatmap(corr, mask=mask, cmap=cmap, vmax=None, center=0,square=True, annot=True, linewidths=.5, cbar_kws={\"shrink\": .9})"
      ],
      "metadata": {
        "id": "ra7y-4VlDJo9"
      },
      "execution_count": null,
      "outputs": []
    },
    {
      "cell_type": "code",
      "source": [
        "sns.pairplot( data=MiceImputed, vars=('MaxTemp','MinTemp','Pressure9am','Pressure3pm', 'Temp9am', 'Temp3pm', 'Evaporation'), hue='RainTomorrow' )"
      ],
      "metadata": {
        "id": "n34cGRgJDPbw"
      },
      "execution_count": null,
      "outputs": []
    },
    {
      "cell_type": "code",
      "source": [
        "from sklearn import preprocessing\n",
        "r_scaler = preprocessing.MinMaxScaler()\n",
        "r_scaler.fit(MiceImputed)\n",
        "modified_data = pd.DataFrame(r_scaler.transform(MiceImputed), index=MiceImputed.index, columns=MiceImputed.columns)"
      ],
      "metadata": {
        "id": "4-PRzd2hDy08"
      },
      "execution_count": null,
      "outputs": []
    },
    {
      "cell_type": "code",
      "source": [
        "from sklearn.feature_selection import SelectKBest, chi2\n",
        "X = modified_data.loc[:,modified_data.columns!='RainTomorrow']\n",
        "y = modified_data[['RainTomorrow']]\n",
        "selector = SelectKBest(chi2, k=10)\n",
        "selector.fit(X, y)\n",
        "X_new = selector.transform(X)\n",
        "print(X.columns[selector.get_support(indices=True)])"
      ],
      "metadata": {
        "id": "SvfoP6u_E9c-"
      },
      "execution_count": null,
      "outputs": []
    },
    {
      "cell_type": "code",
      "source": [
        "from sklearn.feature_selection import SelectFromModel\n",
        "from sklearn.ensemble import RandomForestClassifier as rf\n",
        "\n",
        "X = MiceImputed.drop('RainTomorrow', axis=1)\n",
        "y = MiceImputed['RainTomorrow']\n",
        "selector = SelectFromModel(rf(n_estimators=100, random_state=0))\n",
        "selector.fit(X, y)\n",
        "support = selector.get_support()\n",
        "features = X.loc[:,support].columns.tolist()\n",
        "print(features)\n",
        "print(rf(n_estimators=100, random_state=0).fit(X,y).feature_importances_)"
      ],
      "metadata": {
        "id": "iqN82AXJFMxa"
      },
      "execution_count": null,
      "outputs": []
    },
    {
      "cell_type": "code",
      "source": [
        "features = MiceImputed[['Location', 'MinTemp', 'MaxTemp', 'Rainfall', 'Evaporation', 'Sunshine', 'WindGustDir',\n",
        "                       'WindGustSpeed', 'WindDir9am', 'WindDir3pm', 'WindSpeed9am', 'WindSpeed3pm', 'Humidity9am',\n",
        "                       'Humidity3pm', 'Pressure9am', 'Pressure3pm', 'Cloud9am', 'Cloud3pm', 'Temp9am', 'Temp3pm',\n",
        "                       'RainToday']]\n",
        "target = MiceImputed['RainTomorrow']\n",
        "\n",
        "# Split into test and train\n",
        "from sklearn.model_selection import train_test_split\n",
        "X_train, X_test, y_train, y_test = train_test_split(features, target, test_size=0.25, random_state=12345)\n",
        "\n",
        "# Normalize Features\n",
        "from sklearn.preprocessing import StandardScaler\n",
        "scaler = StandardScaler()\n",
        "X_train = scaler.fit_transform(X_train)\n",
        "X_test = scaler.fit_transform(X_test)"
      ],
      "metadata": {
        "id": "aJb5M7nXFQb6"
      },
      "execution_count": null,
      "outputs": []
    },
    {
      "cell_type": "code",
      "source": [
        "def plot_roc_cur(fper, tper):\n",
        "    plt.plot(fper, tper, color='orange', label='ROC')\n",
        "    plt.plot([0, 1], [0, 1], color='darkblue', linestyle='--')\n",
        "    plt.xlabel('False Positive Rate')\n",
        "    plt.ylabel('True Positive Rate')\n",
        "    plt.title('Receiver Operating Characteristic (ROC) Curve')\n",
        "    plt.legend()\n",
        "    plt.show()"
      ],
      "metadata": {
        "id": "0XYdef08FVvV"
      },
      "execution_count": null,
      "outputs": []
    },
    {
      "cell_type": "code",
      "source": [
        "import time\n",
        "from sklearn.metrics import accuracy_score, roc_auc_score, cohen_kappa_score, plot_confusion_matrix, roc_curve, classification_report\n",
        "def run_model(model, X_train, y_train, X_test, y_test, verbose=True):\n",
        "    t0=time.time()\n",
        "    if verbose == False:\n",
        "        model.fit(X_train,y_train, verbose=0)\n",
        "    else:\n",
        "        model.fit(X_train,y_train)\n",
        "    y_pred = model.predict(X_test)\n",
        "    accuracy = accuracy_score(y_test, y_pred)\n",
        "    roc_auc = roc_auc_score(y_test, y_pred)\n",
        "    coh_kap = cohen_kappa_score(y_test, y_pred)\n",
        "    time_taken = time.time()-t0\n",
        "    print(\"Accuracy = {}\".format(accuracy))\n",
        "    print(\"ROC Area under Curve = {}\".format(roc_auc))\n",
        "    print(\"Cohen's Kappa = {}\".format(coh_kap))\n",
        "    print(\"Time taken = {}\".format(time_taken))\n",
        "    print(classification_report(y_test,y_pred,digits=5))\n",
        "\n",
        "    probs = model.predict_proba(X_test)\n",
        "    probs = probs[:, 1]\n",
        "    fper, tper, thresholds = roc_curve(y_test, probs)\n",
        "    plot_roc_cur(fper, tper)\n",
        "\n",
        "    plot_confusion_matrix(model, X_test, y_test,cmap=plt.cm.Blues, normalize = 'all')\n",
        "\n",
        "    return model, accuracy, roc_auc, coh_kap, time_taken"
      ],
      "metadata": {
        "id": "-S42BZFuFZ7H"
      },
      "execution_count": null,
      "outputs": []
    },
    {
      "cell_type": "code",
      "source": [
        "accuracy_scores = [accuracy_lr, accuracy_dt, accuracy_nn, accuracy_rf, accuracy_lgb, accuracy_cb, accuracy_xgb]\n",
        "roc_auc_scores = [roc_auc_lr, roc_auc_dt, roc_auc_nn, roc_auc_rf, roc_auc_lgb, roc_auc_cb, roc_auc_xgb]\n",
        "coh_kap_scores = [coh_kap_lr, coh_kap_dt, coh_kap_nn, coh_kap_rf, coh_kap_lgb, coh_kap_cb, coh_kap_xgb]\n",
        "tt = [tt_lr, tt_dt, tt_nn, tt_rf, tt_lgb, tt_cb, tt_xgb]\n",
        "\n",
        "model_data = {'Model': ['Logistic Regression','Decision Tree','Neural Network','Random Forest','LightGBM','Catboost','XGBoost'],\n",
        "              'Accuracy': accuracy_scores,\n",
        "              'ROC_AUC': roc_auc_scores,\n",
        "              'Cohen_Kappa': coh_kap_scores,\n",
        "              'Time taken': tt}\n",
        "data = pd.DataFrame(model_data)\n",
        "\n",
        "fig, ax1 = plt.subplots(figsize=(12,10))\n",
        "ax1.set_title('Model Comparison: Accuracy and Time taken for execution', fontsize=13)\n",
        "color = 'tab:green'\n",
        "ax1.set_xlabel('Model', fontsize=13)\n",
        "ax1.set_ylabel('Time taken', fontsize=13, color=color)\n",
        "ax2 = sns.barplot(x='Model', y='Time taken', data = data, palette='summer')\n",
        "ax1.tick_params(axis='y')\n",
        "ax2 = ax1.twinx()\n",
        "color = 'tab:red'\n",
        "ax2.set_ylabel('Accuracy', fontsize=13, color=color)\n",
        "ax2 = sns.lineplot(x='Model', y='Accuracy', data = data, sort=False, color=color)\n",
        "ax2.tick_params(axis='y', color=color)"
      ],
      "metadata": {
        "id": "FjrNcKLbFitB"
      },
      "execution_count": null,
      "outputs": []
    },
    {
      "cell_type": "code",
      "source": [
        "fig, ax3 = plt.subplots(figsize=(12,10))\n",
        "ax3.set_title('Model Comparison: Area under ROC and Cohens Kappa', fontsize=13)\n",
        "color = 'tab:blue'\n",
        "ax3.set_xlabel('Model', fontsize=13)\n",
        "ax3.set_ylabel('ROC_AUC', fontsize=13, color=color)\n",
        "ax4 = sns.barplot(x='Model', y='ROC_AUC', data = data, palette='winter')\n",
        "ax3.tick_params(axis='y')\n",
        "ax4 = ax3.twinx()\n",
        "color = 'tab:red'\n",
        "ax4.set_ylabel('Cohen_Kappa', fontsize=13, color=color)\n",
        "ax4 = sns.lineplot(x='Model', y='Cohen_Kappa', data = data, sort=False, color=color)\n",
        "ax4.tick_params(axis='y', color=color)\n",
        "plt.show()"
      ],
      "metadata": {
        "id": "3_p5OSqpFmln"
      },
      "execution_count": null,
      "outputs": []
    }
  ]
}